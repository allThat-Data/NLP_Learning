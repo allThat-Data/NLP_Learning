{
 "cells": [
  {
   "cell_type": "code",
   "execution_count": 1,
   "id": "c2d2e057-c8b7-4e71-af47-2c7f0f018197",
   "metadata": {
    "tags": []
   },
   "outputs": [],
   "source": [
    "import spacy\n",
    "nlp = spacy.load(\"en_core_web_lg\")"
   ]
  },
  {
   "cell_type": "code",
   "execution_count": 8,
   "id": "2141d204-a8c4-46af-b340-50e4f391a388",
   "metadata": {
    "tags": []
   },
   "outputs": [
    {
     "name": "stdout",
     "output_type": "stream",
     "text": [
      "dog Vector: True \n",
      "OOV: False\n",
      "cat Vector: True \n",
      "OOV: False\n",
      "banana Vector: True \n",
      "OOV: False\n",
      "kem Vector: False \n",
      "OOV: True\n"
     ]
    }
   ],
   "source": [
    "doc= nlp(\"dog cat banana kem\")\n",
    "for token in  doc:\n",
    "    print(token.text,\"Vector:\",token.has_vector,\"\\nOOV:\",token.is_oov)"
   ]
  },
  {
   "cell_type": "code",
   "execution_count": 12,
   "id": "eeaa51b8-75c6-4358-a2c7-27d3627caa78",
   "metadata": {
    "tags": []
   },
   "outputs": [
    {
     "data": {
      "text/plain": [
       "(300,)"
      ]
     },
     "execution_count": 12,
     "metadata": {},
     "output_type": "execute_result"
    }
   ],
   "source": [
    "doc[0].vector.shape"
   ]
  },
  {
   "cell_type": "code",
   "execution_count": 17,
   "id": "a3a4eca5-44df-451f-8236-4db7ce383fa6",
   "metadata": {
    "tags": []
   },
   "outputs": [
    {
     "data": {
      "text/plain": [
       "(300,)"
      ]
     },
     "execution_count": 17,
     "metadata": {},
     "output_type": "execute_result"
    }
   ],
   "source": [
    "base_token=nlp(\"bread\")\n",
    "base_token.vector.shape"
   ]
  },
  {
   "cell_type": "code",
   "execution_count": 19,
   "id": "691b31ff-350e-4185-ae6e-80f60d0dae21",
   "metadata": {
    "tags": []
   },
   "outputs": [
    {
     "name": "stdout",
     "output_type": "stream",
     "text": [
      "bread <-> bread: 1.0\n",
      "sandwich <-> bread: 0.634106782477101\n",
      "burger <-> bread: 0.4752069113758708\n",
      "car <-> bread: 0.06451533308853552\n",
      "tiger <-> bread: 0.04764611675903374\n",
      "human <-> bread: 0.2151154210812192\n",
      "wheat <-> bread: 0.6150360888607199\n"
     ]
    }
   ],
   "source": [
    "doc = nlp(\"bread sandwich burger car tiger human wheat\")\n",
    "for token in doc:\n",
    "    print(f\"{token.text} <-> {base_token.text}:\",token.similarity(base_token))"
   ]
  },
  {
   "cell_type": "code",
   "execution_count": 20,
   "id": "93580c2a-f60d-4002-ab4a-92ea39380345",
   "metadata": {
    "tags": []
   },
   "outputs": [],
   "source": [
    "def print_similarity(base_word,words_to_compare):\n",
    "    base_token = nlp(base_word)\n",
    "    doc = nlp(words_to_compare)\n",
    "    for token in doc:\n",
    "       print(f\"{token.text} <-> {base_token.text}:\",token.similarity(base_token))"
   ]
  },
  {
   "cell_type": "code",
   "execution_count": 28,
   "id": "9e01be0c-d99a-4383-9897-9c8bc06cc53f",
   "metadata": {
    "tags": []
   },
   "outputs": [
    {
     "name": "stdout",
     "output_type": "stream",
     "text": [
      "apple <-> iphone: 0.4387907748060368\n",
      "samsung <-> iphone: 0.670859081425417\n",
      "iphone <-> iphone: 1.0\n",
      "dog <-> iphone: 0.08211864228011527\n",
      "kitten <-> iphone: 0.10222318459666081\n",
      "ios <-> iphone: 0.6711913465213808\n",
      "android <-> iphone: 0.6740653922185394\n"
     ]
    }
   ],
   "source": [
    "print_similarity(\"iphone\",\"apple samsung iphone dog kitten ios android\")"
   ]
  },
  {
   "cell_type": "code",
   "execution_count": 29,
   "id": "76630d91-993f-448c-8c7b-2edc75fdbd1a",
   "metadata": {
    "tags": []
   },
   "outputs": [],
   "source": [
    "king = nlp.vocab[\"king\"].vector\n",
    "man = nlp.vocab[\"man\"].vector\n",
    "woman = nlp.vocab[\"woman\"].vector\n",
    "queen = nlp.vocab[\"queen\"].vector\n",
    "\n",
    "result = king - man + woman"
   ]
  },
  {
   "cell_type": "code",
   "execution_count": 30,
   "id": "d4e6dae8-d0f0-499f-8fa7-4f8ebbddba4a",
   "metadata": {
    "tags": []
   },
   "outputs": [
    {
     "data": {
      "text/plain": [
       "array([[0.6178014]], dtype=float32)"
      ]
     },
     "execution_count": 30,
     "metadata": {},
     "output_type": "execute_result"
    }
   ],
   "source": [
    "from sklearn.metrics.pairwise import cosine_similarity\n",
    "cosine_similarity([result],[queen])"
   ]
  },
  {
   "cell_type": "code",
   "execution_count": null,
   "id": "bffef279-3886-4e75-891b-afa0ba1885c3",
   "metadata": {},
   "outputs": [],
   "source": []
  }
 ],
 "metadata": {
  "kernelspec": {
   "display_name": "Python 3 (ipykernel)",
   "language": "python",
   "name": "python3"
  },
  "language_info": {
   "codemirror_mode": {
    "name": "ipython",
    "version": 3
   },
   "file_extension": ".py",
   "mimetype": "text/x-python",
   "name": "python",
   "nbconvert_exporter": "python",
   "pygments_lexer": "ipython3",
   "version": "3.11.3"
  }
 },
 "nbformat": 4,
 "nbformat_minor": 5
}
